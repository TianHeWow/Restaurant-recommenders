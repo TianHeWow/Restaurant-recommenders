{
 "cells": [
  {
   "cell_type": "markdown",
   "metadata": {},
   "source": [
    "# Yelp Recommendation system"
   ]
  },
  {
   "cell_type": "markdown",
   "metadata": {},
   "source": [
    "The Yelp Data Set can be found [Yelp Dataset Challenge](https://www.yelp.com/dataset_challenge).\n",
    "<br/>\n",
    "I'd like to use business.json and user.json to build my recommendation system"
   ]
  },
  {
   "cell_type": "markdown",
   "metadata": {},
   "source": [
    "# Process business data set"
   ]
  },
  {
   "cell_type": "code",
   "execution_count": 20,
   "metadata": {},
   "outputs": [],
   "source": [
    "import json\n",
    "import pandas as pd\n",
    "file_business,file_review, file_user = [\n",
    "    './yelp_dataset/business.json',\n",
    "    './yelp_dataset/review.json',\n",
    "    './yelp_dataset/user.json'\n",
    "]"
   ]
  },
  {
   "cell_type": "code",
   "execution_count": 24,
   "metadata": {},
   "outputs": [],
   "source": [
    "with open(file_business, encoding=\"utf8\") as f:\n",
    "    df_business = pd.DataFrame(json.loads(line) for line in f)"
   ]
  },
  {
   "cell_type": "code",
   "execution_count": 27,
   "metadata": {},
   "outputs": [
    {
     "data": {
      "text/html": [
       "<div>\n",
       "<style scoped>\n",
       "    .dataframe tbody tr th:only-of-type {\n",
       "        vertical-align: middle;\n",
       "    }\n",
       "\n",
       "    .dataframe tbody tr th {\n",
       "        vertical-align: top;\n",
       "    }\n",
       "\n",
       "    .dataframe thead th {\n",
       "        text-align: right;\n",
       "    }\n",
       "</style>\n",
       "<table border=\"1\" class=\"dataframe\">\n",
       "  <thead>\n",
       "    <tr style=\"text-align: right;\">\n",
       "      <th></th>\n",
       "      <th>address</th>\n",
       "      <th>attributes</th>\n",
       "      <th>business_id</th>\n",
       "      <th>categories</th>\n",
       "      <th>city</th>\n",
       "      <th>hours</th>\n",
       "      <th>is_open</th>\n",
       "      <th>latitude</th>\n",
       "      <th>longitude</th>\n",
       "      <th>name</th>\n",
       "      <th>postal_code</th>\n",
       "      <th>review_count</th>\n",
       "      <th>stars</th>\n",
       "      <th>state</th>\n",
       "    </tr>\n",
       "  </thead>\n",
       "  <tbody>\n",
       "    <tr>\n",
       "      <th>0</th>\n",
       "      <td>2818 E Camino Acequia Drive</td>\n",
       "      <td>{'GoodForKids': 'False'}</td>\n",
       "      <td>1SWheh84yJXfytovILXOAQ</td>\n",
       "      <td>Golf, Active Life</td>\n",
       "      <td>Phoenix</td>\n",
       "      <td>None</td>\n",
       "      <td>0</td>\n",
       "      <td>33.522143</td>\n",
       "      <td>-112.018481</td>\n",
       "      <td>Arizona Biltmore Golf Club</td>\n",
       "      <td>85016</td>\n",
       "      <td>5</td>\n",
       "      <td>3.0</td>\n",
       "      <td>AZ</td>\n",
       "    </tr>\n",
       "    <tr>\n",
       "      <th>1</th>\n",
       "      <td>30 Eglinton Avenue W</td>\n",
       "      <td>{'RestaurantsReservations': 'True', 'GoodForMe...</td>\n",
       "      <td>QXAEGFB4oINsVuTFxEYKFQ</td>\n",
       "      <td>Specialty Food, Restaurants, Dim Sum, Imported...</td>\n",
       "      <td>Mississauga</td>\n",
       "      <td>{'Monday': '9:0-0:0', 'Tuesday': '9:0-0:0', 'W...</td>\n",
       "      <td>1</td>\n",
       "      <td>43.605499</td>\n",
       "      <td>-79.652289</td>\n",
       "      <td>Emerald Chinese Restaurant</td>\n",
       "      <td>L5R 3E7</td>\n",
       "      <td>128</td>\n",
       "      <td>2.5</td>\n",
       "      <td>ON</td>\n",
       "    </tr>\n",
       "    <tr>\n",
       "      <th>2</th>\n",
       "      <td>10110 Johnston Rd, Ste 15</td>\n",
       "      <td>{'GoodForKids': 'True', 'NoiseLevel': 'u'avera...</td>\n",
       "      <td>gnKjwL_1w79qoiV3IC_xQQ</td>\n",
       "      <td>Sushi Bars, Restaurants, Japanese</td>\n",
       "      <td>Charlotte</td>\n",
       "      <td>{'Monday': '17:30-21:30', 'Wednesday': '17:30-...</td>\n",
       "      <td>1</td>\n",
       "      <td>35.092564</td>\n",
       "      <td>-80.859132</td>\n",
       "      <td>Musashi Japanese Restaurant</td>\n",
       "      <td>28210</td>\n",
       "      <td>170</td>\n",
       "      <td>4.0</td>\n",
       "      <td>NC</td>\n",
       "    </tr>\n",
       "    <tr>\n",
       "      <th>3</th>\n",
       "      <td>15655 W Roosevelt St, Ste 237</td>\n",
       "      <td>None</td>\n",
       "      <td>xvX2CttrVhyG2z1dFg_0xw</td>\n",
       "      <td>Insurance, Financial Services</td>\n",
       "      <td>Goodyear</td>\n",
       "      <td>{'Monday': '8:0-17:0', 'Tuesday': '8:0-17:0', ...</td>\n",
       "      <td>1</td>\n",
       "      <td>33.455613</td>\n",
       "      <td>-112.395596</td>\n",
       "      <td>Farmers Insurance - Paul Lorenz</td>\n",
       "      <td>85338</td>\n",
       "      <td>3</td>\n",
       "      <td>5.0</td>\n",
       "      <td>AZ</td>\n",
       "    </tr>\n",
       "    <tr>\n",
       "      <th>4</th>\n",
       "      <td>4209 Stuart Andrew Blvd, Ste F</td>\n",
       "      <td>{'BusinessAcceptsBitcoin': 'False', 'ByAppoint...</td>\n",
       "      <td>HhyxOkGAM07SRYtlQ4wMFQ</td>\n",
       "      <td>Plumbing, Shopping, Local Services, Home Servi...</td>\n",
       "      <td>Charlotte</td>\n",
       "      <td>{'Monday': '7:0-23:0', 'Tuesday': '7:0-23:0', ...</td>\n",
       "      <td>1</td>\n",
       "      <td>35.190012</td>\n",
       "      <td>-80.887223</td>\n",
       "      <td>Queen City Plumbing</td>\n",
       "      <td>28217</td>\n",
       "      <td>4</td>\n",
       "      <td>4.0</td>\n",
       "      <td>NC</td>\n",
       "    </tr>\n",
       "  </tbody>\n",
       "</table>\n",
       "</div>"
      ],
      "text/plain": [
       "                          address  \\\n",
       "0     2818 E Camino Acequia Drive   \n",
       "1            30 Eglinton Avenue W   \n",
       "2       10110 Johnston Rd, Ste 15   \n",
       "3   15655 W Roosevelt St, Ste 237   \n",
       "4  4209 Stuart Andrew Blvd, Ste F   \n",
       "\n",
       "                                          attributes             business_id  \\\n",
       "0                           {'GoodForKids': 'False'}  1SWheh84yJXfytovILXOAQ   \n",
       "1  {'RestaurantsReservations': 'True', 'GoodForMe...  QXAEGFB4oINsVuTFxEYKFQ   \n",
       "2  {'GoodForKids': 'True', 'NoiseLevel': 'u'avera...  gnKjwL_1w79qoiV3IC_xQQ   \n",
       "3                                               None  xvX2CttrVhyG2z1dFg_0xw   \n",
       "4  {'BusinessAcceptsBitcoin': 'False', 'ByAppoint...  HhyxOkGAM07SRYtlQ4wMFQ   \n",
       "\n",
       "                                          categories         city  \\\n",
       "0                                  Golf, Active Life      Phoenix   \n",
       "1  Specialty Food, Restaurants, Dim Sum, Imported...  Mississauga   \n",
       "2                  Sushi Bars, Restaurants, Japanese    Charlotte   \n",
       "3                      Insurance, Financial Services     Goodyear   \n",
       "4  Plumbing, Shopping, Local Services, Home Servi...    Charlotte   \n",
       "\n",
       "                                               hours  is_open   latitude  \\\n",
       "0                                               None        0  33.522143   \n",
       "1  {'Monday': '9:0-0:0', 'Tuesday': '9:0-0:0', 'W...        1  43.605499   \n",
       "2  {'Monday': '17:30-21:30', 'Wednesday': '17:30-...        1  35.092564   \n",
       "3  {'Monday': '8:0-17:0', 'Tuesday': '8:0-17:0', ...        1  33.455613   \n",
       "4  {'Monday': '7:0-23:0', 'Tuesday': '7:0-23:0', ...        1  35.190012   \n",
       "\n",
       "    longitude                             name postal_code  review_count  \\\n",
       "0 -112.018481       Arizona Biltmore Golf Club       85016             5   \n",
       "1  -79.652289       Emerald Chinese Restaurant     L5R 3E7           128   \n",
       "2  -80.859132      Musashi Japanese Restaurant       28210           170   \n",
       "3 -112.395596  Farmers Insurance - Paul Lorenz       85338             3   \n",
       "4  -80.887223              Queen City Plumbing       28217             4   \n",
       "\n",
       "   stars state  \n",
       "0    3.0    AZ  \n",
       "1    2.5    ON  \n",
       "2    4.0    NC  \n",
       "3    5.0    AZ  \n",
       "4    4.0    NC  "
      ]
     },
     "execution_count": 27,
     "metadata": {},
     "output_type": "execute_result"
    }
   ],
   "source": [
    "df_business.head()"
   ]
  },
  {
   "cell_type": "markdown",
   "metadata": {},
   "source": [
    "## Find the Resturants information in \"Las Vegas\""
   ]
  },
  {
   "cell_type": "code",
   "execution_count": 29,
   "metadata": {},
   "outputs": [],
   "source": [
    "# city Las Vegas: bool\n",
    "cond_city = df_business['city'] == \"Las Vegas\"\n",
    "\n",
    "# isnull: bool\n",
    "cond_category_not_null = ~df_business[\"categories\"].isnull()\n",
    "\n",
    "# restaurant in categories\n",
    "# first, apply(str) convert categories to strings,\n",
    "# then check if it contains Restaurants\n",
    "cond_category_restaurant = df_business[\"categories\"].apply(str).str.contains(\"Restaurants\")\n",
    "\n",
    "# Create filtered DataFrame, and name it df_filtered\n",
    "df_filtered = df_business[cond_city & cond_category_not_null & cond_category_restaurant]"
   ]
  },
  {
   "cell_type": "markdown",
   "metadata": {},
   "source": [
    "## Keep useful columns\n",
    "\n",
    "* only keep some useful columns\n",
    "    * business_id\n",
    "    * name\n",
    "    * categories\n",
    "    * stars"
   ]
  },
  {
   "cell_type": "code",
   "execution_count": 30,
   "metadata": {},
   "outputs": [
    {
     "name": "stderr",
     "output_type": "stream",
     "text": [
      "C:\\TEXTBOOK\\Python\\anoconda\\lib\\site-packages\\pandas\\core\\frame.py:4025: SettingWithCopyWarning: \n",
      "A value is trying to be set on a copy of a slice from a DataFrame\n",
      "\n",
      "See the caveats in the documentation: http://pandas.pydata.org/pandas-docs/stable/indexing.html#indexing-view-versus-copy\n",
      "  return super(DataFrame, self).rename(**kwargs)\n"
     ]
    }
   ],
   "source": [
    "selected_features = [u'business_id', u'name', u'categories', u'stars']\n",
    "\n",
    "# Make a DataFrame that contains only the abovementioned columns, and name it as df_selected_business\n",
    "df_selected_business = df_filtered[selected_features]\n",
    "\n",
    "# Rename the column name \"stars\" to \"avg_stars\" to avoid naming conflicts with review dataset\n",
    "df_selected_business.rename(columns={\"stars\":\"avg_stars\"}, inplace=True)"
   ]
  },
  {
   "cell_type": "markdown",
   "metadata": {},
   "source": [
    "## Save results to csv files"
   ]
  },
  {
   "cell_type": "code",
   "execution_count": 32,
   "metadata": {},
   "outputs": [],
   "source": [
    "# Save to ./data/selected_business.csv for your next task\n",
    "df_selected_business.to_csv(\"./selected_business.csv\", index=False, encoding=\"utf-8\")"
   ]
  },
  {
   "cell_type": "markdown",
   "metadata": {},
   "source": [
    "## Load Review Dataset"
   ]
  },
  {
   "cell_type": "code",
   "execution_count": 33,
   "metadata": {},
   "outputs": [],
   "source": [
    "with open(file_review, encoding=\"utf8\") as f:\n",
    "    df_review = pd.DataFrame(json.loads(line) for line in f)"
   ]
  },
  {
   "cell_type": "markdown",
   "metadata": {},
   "source": [
    "## Join on business_id\n",
    "filter data by date, keep comments from last 1 years (better perform filter before join, so data is smaller)"
   ]
  },
  {
   "cell_type": "code",
   "execution_count": 35,
   "metadata": {},
   "outputs": [],
   "source": [
    "# Prepare the business dataframe and set index to column \"business_id\", and name it as df_left\n",
    "df_left = df_selected_business.set_index('business_id')\n",
    "\n",
    "# Prepare the review dataframe and set index to column \"business_id\", and name it as df_right\n",
    "# Also filter date after '2018-02-01'\n",
    "df_review = df_review[df_review['date']>'2018-02-01'].set_index('business_id')\n",
    "\n",
    "# Join df_left and df_right. What type of join?\n",
    "df_final = df_left.join(df_review,how='inner')\n",
    "\n",
    "# You may want to reset the index \n",
    "df_final = df_final.reset_index()"
   ]
  },
  {
   "cell_type": "code",
   "execution_count": 37,
   "metadata": {},
   "outputs": [],
   "source": [
    "# Save to data/last_2_years_restaurant_reviews.csv for your next task\n",
    "df_final.to_csv('./last_1_years_restaurant_reviews.csv',index=False)"
   ]
  },
  {
   "cell_type": "markdown",
   "metadata": {},
   "source": [
    "# Yelp Restaurant Recommender system"
   ]
  },
  {
   "cell_type": "code",
   "execution_count": 1,
   "metadata": {},
   "outputs": [],
   "source": [
    "# load library\n",
    "\n",
    "import pandas as pd\n",
    "import numpy as np\n",
    "\n",
    "from scipy import sparse\n",
    "from sklearn.metrics.pairwise import cosine_similarity\n",
    "from time import time\n",
    "\n",
    "import matplotlib.pyplot as plt\n",
    "%matplotlib inline\n",
    "plt.style.use(\"ggplot\")"
   ]
  },
  {
   "cell_type": "code",
   "execution_count": 6,
   "metadata": {},
   "outputs": [
    {
     "data": {
      "text/html": [
       "<div>\n",
       "<style scoped>\n",
       "    .dataframe tbody tr th:only-of-type {\n",
       "        vertical-align: middle;\n",
       "    }\n",
       "\n",
       "    .dataframe tbody tr th {\n",
       "        vertical-align: top;\n",
       "    }\n",
       "\n",
       "    .dataframe thead th {\n",
       "        text-align: right;\n",
       "    }\n",
       "</style>\n",
       "<table border=\"1\" class=\"dataframe\">\n",
       "  <thead>\n",
       "    <tr style=\"text-align: right;\">\n",
       "      <th></th>\n",
       "      <th>business_id</th>\n",
       "      <th>name</th>\n",
       "      <th>categories</th>\n",
       "      <th>avg_stars</th>\n",
       "      <th>cool</th>\n",
       "      <th>date</th>\n",
       "      <th>funny</th>\n",
       "      <th>review_id</th>\n",
       "      <th>stars</th>\n",
       "      <th>text</th>\n",
       "      <th>useful</th>\n",
       "      <th>user_id</th>\n",
       "    </tr>\n",
       "  </thead>\n",
       "  <tbody>\n",
       "    <tr>\n",
       "      <th>0</th>\n",
       "      <td>--9e1ONYQuAa-CB_Rrw7Tw</td>\n",
       "      <td>Delmonico Steakhouse</td>\n",
       "      <td>Cajun/Creole, Seafood, Steakhouses, Restaurants</td>\n",
       "      <td>4.0</td>\n",
       "      <td>0</td>\n",
       "      <td>2018-05-08 16:39:25</td>\n",
       "      <td>0</td>\n",
       "      <td>tTD3wegtsiHOjVTLgsb7FA</td>\n",
       "      <td>5.0</td>\n",
       "      <td>On yelp 5 stars = Woohoo! as good as it gets! ...</td>\n",
       "      <td>0</td>\n",
       "      <td>joe4i-lcCFd2wViA2agGKw</td>\n",
       "    </tr>\n",
       "    <tr>\n",
       "      <th>1</th>\n",
       "      <td>--9e1ONYQuAa-CB_Rrw7Tw</td>\n",
       "      <td>Delmonico Steakhouse</td>\n",
       "      <td>Cajun/Creole, Seafood, Steakhouses, Restaurants</td>\n",
       "      <td>4.0</td>\n",
       "      <td>0</td>\n",
       "      <td>2018-06-19 23:47:56</td>\n",
       "      <td>0</td>\n",
       "      <td>aie6cd-6-nbQ5SOMgfSteg</td>\n",
       "      <td>5.0</td>\n",
       "      <td>Excellent food and service!! Everyone enjoyed ...</td>\n",
       "      <td>0</td>\n",
       "      <td>CW2rG0leS6vuVHLyvUx4Cg</td>\n",
       "    </tr>\n",
       "    <tr>\n",
       "      <th>2</th>\n",
       "      <td>--9e1ONYQuAa-CB_Rrw7Tw</td>\n",
       "      <td>Delmonico Steakhouse</td>\n",
       "      <td>Cajun/Creole, Seafood, Steakhouses, Restaurants</td>\n",
       "      <td>4.0</td>\n",
       "      <td>0</td>\n",
       "      <td>2018-04-05 00:49:01</td>\n",
       "      <td>0</td>\n",
       "      <td>HGegJEZMSilsyt7RNcxwCw</td>\n",
       "      <td>5.0</td>\n",
       "      <td>We had a great experience!  Super friendly and...</td>\n",
       "      <td>0</td>\n",
       "      <td>hOQ70lGgr6hYRMcoS330Kw</td>\n",
       "    </tr>\n",
       "    <tr>\n",
       "      <th>3</th>\n",
       "      <td>--9e1ONYQuAa-CB_Rrw7Tw</td>\n",
       "      <td>Delmonico Steakhouse</td>\n",
       "      <td>Cajun/Creole, Seafood, Steakhouses, Restaurants</td>\n",
       "      <td>4.0</td>\n",
       "      <td>0</td>\n",
       "      <td>2018-04-28 18:00:09</td>\n",
       "      <td>0</td>\n",
       "      <td>jR8Xh9MM9kxjD3aNMsKVYg</td>\n",
       "      <td>3.0</td>\n",
       "      <td>Very average mediocre steakhouse. The ambiance...</td>\n",
       "      <td>0</td>\n",
       "      <td>xXl-Q04KyQz6VOQyyFl5XA</td>\n",
       "    </tr>\n",
       "    <tr>\n",
       "      <th>4</th>\n",
       "      <td>--9e1ONYQuAa-CB_Rrw7Tw</td>\n",
       "      <td>Delmonico Steakhouse</td>\n",
       "      <td>Cajun/Creole, Seafood, Steakhouses, Restaurants</td>\n",
       "      <td>4.0</td>\n",
       "      <td>0</td>\n",
       "      <td>2018-06-27 01:10:57</td>\n",
       "      <td>0</td>\n",
       "      <td>VE6LgMGd35y0_yACyeXn0Q</td>\n",
       "      <td>2.0</td>\n",
       "      <td>This was our group's 2nd Vegas visit in a row ...</td>\n",
       "      <td>0</td>\n",
       "      <td>w-egZTgNCg0_aCx0Ci32Gg</td>\n",
       "    </tr>\n",
       "  </tbody>\n",
       "</table>\n",
       "</div>"
      ],
      "text/plain": [
       "              business_id                  name  \\\n",
       "0  --9e1ONYQuAa-CB_Rrw7Tw  Delmonico Steakhouse   \n",
       "1  --9e1ONYQuAa-CB_Rrw7Tw  Delmonico Steakhouse   \n",
       "2  --9e1ONYQuAa-CB_Rrw7Tw  Delmonico Steakhouse   \n",
       "3  --9e1ONYQuAa-CB_Rrw7Tw  Delmonico Steakhouse   \n",
       "4  --9e1ONYQuAa-CB_Rrw7Tw  Delmonico Steakhouse   \n",
       "\n",
       "                                        categories  avg_stars  cool  \\\n",
       "0  Cajun/Creole, Seafood, Steakhouses, Restaurants        4.0     0   \n",
       "1  Cajun/Creole, Seafood, Steakhouses, Restaurants        4.0     0   \n",
       "2  Cajun/Creole, Seafood, Steakhouses, Restaurants        4.0     0   \n",
       "3  Cajun/Creole, Seafood, Steakhouses, Restaurants        4.0     0   \n",
       "4  Cajun/Creole, Seafood, Steakhouses, Restaurants        4.0     0   \n",
       "\n",
       "                  date  funny               review_id  stars  \\\n",
       "0  2018-05-08 16:39:25      0  tTD3wegtsiHOjVTLgsb7FA    5.0   \n",
       "1  2018-06-19 23:47:56      0  aie6cd-6-nbQ5SOMgfSteg    5.0   \n",
       "2  2018-04-05 00:49:01      0  HGegJEZMSilsyt7RNcxwCw    5.0   \n",
       "3  2018-04-28 18:00:09      0  jR8Xh9MM9kxjD3aNMsKVYg    3.0   \n",
       "4  2018-06-27 01:10:57      0  VE6LgMGd35y0_yACyeXn0Q    2.0   \n",
       "\n",
       "                                                text  useful  \\\n",
       "0  On yelp 5 stars = Woohoo! as good as it gets! ...       0   \n",
       "1  Excellent food and service!! Everyone enjoyed ...       0   \n",
       "2  We had a great experience!  Super friendly and...       0   \n",
       "3  Very average mediocre steakhouse. The ambiance...       0   \n",
       "4  This was our group's 2nd Vegas visit in a row ...       0   \n",
       "\n",
       "                  user_id  \n",
       "0  joe4i-lcCFd2wViA2agGKw  \n",
       "1  CW2rG0leS6vuVHLyvUx4Cg  \n",
       "2  hOQ70lGgr6hYRMcoS330Kw  \n",
       "3  xXl-Q04KyQz6VOQyyFl5XA  \n",
       "4  w-egZTgNCg0_aCx0Ci32Gg  "
      ]
     },
     "execution_count": 6,
     "metadata": {},
     "output_type": "execute_result"
    }
   ],
   "source": [
    "# load data\n",
    "df = pd.read_csv(\"./last_1_years_restaurant_reviews.csv\")\n",
    "df.head()"
   ]
  },
  {
   "cell_type": "markdown",
   "metadata": {},
   "source": [
    "# Collaborative Filtering Recommender"
   ]
  },
  {
   "cell_type": "markdown",
   "metadata": {},
   "source": [
    "## Get Relevant Columns\n",
    "* business_id\n",
    "* user_id\n",
    "* stars"
   ]
  },
  {
   "cell_type": "code",
   "execution_count": 5,
   "metadata": {},
   "outputs": [],
   "source": [
    "# Get business_id, user_id, stars for recommender\n",
    "df_stars = df[['business_id', 'user_id', 'stars']]"
   ]
  },
  {
   "cell_type": "markdown",
   "metadata": {},
   "source": [
    "## Basic Information"
   ]
  },
  {
   "cell_type": "code",
   "execution_count": 7,
   "metadata": {},
   "outputs": [
    {
     "data": {
      "text/plain": [
       "5.0    97498\n",
       "4.0    34304\n",
       "1.0    25830\n",
       "3.0    17700\n",
       "2.0    13656\n",
       "Name: stars, dtype: int64"
      ]
     },
     "execution_count": 7,
     "metadata": {},
     "output_type": "execute_result"
    }
   ],
   "source": [
    "# stars distribution\n",
    "df_stars['stars'].value_counts()"
   ]
  },
  {
   "cell_type": "code",
   "execution_count": 8,
   "metadata": {},
   "outputs": [
    {
     "data": {
      "text/plain": [
       "4249"
      ]
     },
     "execution_count": 8,
     "metadata": {},
     "output_type": "execute_result"
    }
   ],
   "source": [
    "# number of unique business_id (restaurant)\n",
    "df_stars['business_id'].nunique()"
   ]
  },
  {
   "cell_type": "code",
   "execution_count": 9,
   "metadata": {},
   "outputs": [
    {
     "data": {
      "text/plain": [
       "102800"
      ]
     },
     "execution_count": 9,
     "metadata": {},
     "output_type": "execute_result"
    }
   ],
   "source": [
    "# number of unique user_id (user)\n",
    "df_stars['user_id'].nunique()"
   ]
  },
  {
   "cell_type": "code",
   "execution_count": 10,
   "metadata": {},
   "outputs": [
    {
     "data": {
      "text/plain": [
       "I-4KVZ9lqHhk8469X9FvhA    268\n",
       "bLbSNkLggFnqwNNzzq-Ijw    133\n",
       "3tCzdXFXke958utEjcSdmg    125\n",
       "keBv05MsMFBd0Hu98vXThQ    123\n",
       "NrpzAH3EoNhWUR8OysUhBQ    123\n",
       "U4INQZOPSUaj8hMjLlZ3KA    122\n",
       "G2ToQ5eT91v2hkIT7I4X7g    103\n",
       "YE54kKTuqJJPNYWIKIpOEQ     92\n",
       "qKUEhJUl0Z9MFW7R7BTvRQ     77\n",
       "Xsyw11gZiltqWL5RvWGKJg     77\n",
       "Name: user_id, dtype: int64"
      ]
     },
     "execution_count": 10,
     "metadata": {},
     "output_type": "execute_result"
    }
   ],
   "source": [
    "# user comments counts\n",
    "df_user_counts = df_stars['user_id'].value_counts()\n",
    "df_user_counts.head(10)"
   ]
  },
  {
   "cell_type": "markdown",
   "metadata": {},
   "source": [
    "## Exclude Users With Less Reviews\n",
    "\n",
    "There are many users that haven't given many reviews, exclude these users from the item-item similarity recommender."
   ]
  },
  {
   "cell_type": "code",
   "execution_count": 17,
   "metadata": {},
   "outputs": [
    {
     "data": {
      "text/plain": [
       "71200"
      ]
     },
     "execution_count": 17,
     "metadata": {},
     "output_type": "execute_result"
    }
   ],
   "source": [
    "# how many users only comments once\n",
    "df_user_counts[df_user_counts == 1].sum()"
   ]
  },
  {
   "cell_type": "code",
   "execution_count": 18,
   "metadata": {},
   "outputs": [
    {
     "data": {
      "text/plain": [
       "4133"
      ]
     },
     "execution_count": 18,
     "metadata": {},
     "output_type": "execute_result"
    }
   ],
   "source": [
    "# users comment over 5 times\n",
    "# count users comment over 5 times as active user\n",
    "df_users = df_user_counts[df_user_counts > 5]\n",
    "df_users.count()"
   ]
  },
  {
   "cell_type": "code",
   "execution_count": 19,
   "metadata": {},
   "outputs": [
    {
     "data": {
      "text/plain": [
       "44701"
      ]
     },
     "execution_count": 19,
     "metadata": {},
     "output_type": "execute_result"
    }
   ],
   "source": [
    "# sum of all comments\n",
    "df_users.sum()"
   ]
  },
  {
   "cell_type": "code",
   "execution_count": 20,
   "metadata": {},
   "outputs": [
    {
     "data": {
      "text/html": [
       "<div>\n",
       "<style scoped>\n",
       "    .dataframe tbody tr th:only-of-type {\n",
       "        vertical-align: middle;\n",
       "    }\n",
       "\n",
       "    .dataframe tbody tr th {\n",
       "        vertical-align: top;\n",
       "    }\n",
       "\n",
       "    .dataframe thead th {\n",
       "        text-align: right;\n",
       "    }\n",
       "</style>\n",
       "<table border=\"1\" class=\"dataframe\">\n",
       "  <thead>\n",
       "    <tr style=\"text-align: right;\">\n",
       "      <th></th>\n",
       "      <th>user_id</th>\n",
       "      <th>business_id</th>\n",
       "      <th>stars</th>\n",
       "    </tr>\n",
       "  </thead>\n",
       "  <tbody>\n",
       "    <tr>\n",
       "      <th>0</th>\n",
       "      <td>I-4KVZ9lqHhk8469X9FvhA</td>\n",
       "      <td>-AD5PiuJHgdUcAK-Vxao2A</td>\n",
       "      <td>5.0</td>\n",
       "    </tr>\n",
       "    <tr>\n",
       "      <th>1</th>\n",
       "      <td>I-4KVZ9lqHhk8469X9FvhA</td>\n",
       "      <td>-_yEVC3_3M6YOsamYfNFEw</td>\n",
       "      <td>4.0</td>\n",
       "    </tr>\n",
       "    <tr>\n",
       "      <th>2</th>\n",
       "      <td>I-4KVZ9lqHhk8469X9FvhA</td>\n",
       "      <td>-hzQQ8tbXThpp0k5E_y1Dw</td>\n",
       "      <td>4.0</td>\n",
       "    </tr>\n",
       "    <tr>\n",
       "      <th>3</th>\n",
       "      <td>I-4KVZ9lqHhk8469X9FvhA</td>\n",
       "      <td>-oUM2uISux96lMGeawHIOA</td>\n",
       "      <td>5.0</td>\n",
       "    </tr>\n",
       "    <tr>\n",
       "      <th>4</th>\n",
       "      <td>I-4KVZ9lqHhk8469X9FvhA</td>\n",
       "      <td>-oUM2uISux96lMGeawHIOA</td>\n",
       "      <td>5.0</td>\n",
       "    </tr>\n",
       "  </tbody>\n",
       "</table>\n",
       "</div>"
      ],
      "text/plain": [
       "                  user_id             business_id  stars\n",
       "0  I-4KVZ9lqHhk8469X9FvhA  -AD5PiuJHgdUcAK-Vxao2A    5.0\n",
       "1  I-4KVZ9lqHhk8469X9FvhA  -_yEVC3_3M6YOsamYfNFEw    4.0\n",
       "2  I-4KVZ9lqHhk8469X9FvhA  -hzQQ8tbXThpp0k5E_y1Dw    4.0\n",
       "3  I-4KVZ9lqHhk8469X9FvhA  -oUM2uISux96lMGeawHIOA    5.0\n",
       "4  I-4KVZ9lqHhk8469X9FvhA  -oUM2uISux96lMGeawHIOA    5.0"
      ]
     },
     "execution_count": 20,
     "metadata": {},
     "output_type": "execute_result"
    }
   ],
   "source": [
    "# reorder dataframe\n",
    "df_stars_cleaned = df_stars.set_index('user_id').loc[df_users.index,:].reset_index()\n",
    "df_stars_cleaned.head()"
   ]
  },
  {
   "cell_type": "code",
   "execution_count": 24,
   "metadata": {},
   "outputs": [
    {
     "data": {
      "text/plain": [
       "3626"
      ]
     },
     "execution_count": 24,
     "metadata": {},
     "output_type": "execute_result"
    }
   ],
   "source": [
    "df_stars_cleaned['business_id'].nunique()"
   ]
  },
  {
   "cell_type": "markdown",
   "metadata": {},
   "source": [
    "## Utility Matrix"
   ]
  },
  {
   "cell_type": "code",
   "execution_count": 21,
   "metadata": {},
   "outputs": [],
   "source": [
    "# Use pivot table to represent Utility matrix\n",
    "df_utility = pd.pivot_table(data=df_stars_cleaned,\n",
    "                            values='stars', \n",
    "                            index='user_id', \n",
    "                            columns='business_id',\n",
    "                            fill_value=0) "
   ]
  },
  {
   "cell_type": "code",
   "execution_count": 22,
   "metadata": {},
   "outputs": [
    {
     "data": {
      "text/html": [
       "<div>\n",
       "<style scoped>\n",
       "    .dataframe tbody tr th:only-of-type {\n",
       "        vertical-align: middle;\n",
       "    }\n",
       "\n",
       "    .dataframe tbody tr th {\n",
       "        vertical-align: top;\n",
       "    }\n",
       "\n",
       "    .dataframe thead th {\n",
       "        text-align: right;\n",
       "    }\n",
       "</style>\n",
       "<table border=\"1\" class=\"dataframe\">\n",
       "  <thead>\n",
       "    <tr style=\"text-align: right;\">\n",
       "      <th>business_id</th>\n",
       "      <th>--9e1ONYQuAa-CB_Rrw7Tw</th>\n",
       "      <th>-0RkJ_uIduNLWQrphbADRw</th>\n",
       "      <th>-1m9o3vGRA8IBPNvNqKLmA</th>\n",
       "      <th>-3zffZUHoY8bQjGfPSoBKQ</th>\n",
       "      <th>-46pFijv3f2jZH-_Ze6CQA</th>\n",
       "      <th>-8R_-EkGpUhBk55K9Dd4mg</th>\n",
       "      <th>-AD5PiuJHgdUcAK-Vxao2A</th>\n",
       "      <th>-ADtl9bLp8wNqYX1k3KuxA</th>\n",
       "      <th>-Bf8BQ3yMk8U2f45r2DRKw</th>\n",
       "      <th>-BmqghX1sv7sgsxOIS2yAg</th>\n",
       "      <th>...</th>\n",
       "      <th>zmltWmTpoBt5sCU-5Kzj-Q</th>\n",
       "      <th>znWHLW1pt19HzW1VY6KfCA</th>\n",
       "      <th>zp-K5s3pGTWuuaVBWo6WZA</th>\n",
       "      <th>zpoZ6WyQUYff18-z4ZU1mA</th>\n",
       "      <th>zr42_UsWfaIF-rcp37OpwA</th>\n",
       "      <th>zsQk990PubOHjr1YcLkQFw</th>\n",
       "      <th>zttcrQP4MxNS5X5itzStXg</th>\n",
       "      <th>zuwba6QEBIDZT0tJZmNhdQ</th>\n",
       "      <th>zwNC-Ow4eIMan2__bS9-rg</th>\n",
       "      <th>zx_j6OuuHHa2afVoAZuLpA</th>\n",
       "    </tr>\n",
       "    <tr>\n",
       "      <th>user_id</th>\n",
       "      <th></th>\n",
       "      <th></th>\n",
       "      <th></th>\n",
       "      <th></th>\n",
       "      <th></th>\n",
       "      <th></th>\n",
       "      <th></th>\n",
       "      <th></th>\n",
       "      <th></th>\n",
       "      <th></th>\n",
       "      <th></th>\n",
       "      <th></th>\n",
       "      <th></th>\n",
       "      <th></th>\n",
       "      <th></th>\n",
       "      <th></th>\n",
       "      <th></th>\n",
       "      <th></th>\n",
       "      <th></th>\n",
       "      <th></th>\n",
       "      <th></th>\n",
       "    </tr>\n",
       "  </thead>\n",
       "  <tbody>\n",
       "    <tr>\n",
       "      <th>-1D4lTzn2HzQlW7OZJo16Q</th>\n",
       "      <td>0</td>\n",
       "      <td>0.0</td>\n",
       "      <td>0</td>\n",
       "      <td>0</td>\n",
       "      <td>0</td>\n",
       "      <td>0</td>\n",
       "      <td>0</td>\n",
       "      <td>0.0</td>\n",
       "      <td>0</td>\n",
       "      <td>0</td>\n",
       "      <td>...</td>\n",
       "      <td>0</td>\n",
       "      <td>0</td>\n",
       "      <td>0</td>\n",
       "      <td>0.0</td>\n",
       "      <td>0</td>\n",
       "      <td>0</td>\n",
       "      <td>0</td>\n",
       "      <td>0</td>\n",
       "      <td>0</td>\n",
       "      <td>0</td>\n",
       "    </tr>\n",
       "    <tr>\n",
       "      <th>-4JBueG4IRIh2Ie5EEIJSg</th>\n",
       "      <td>0</td>\n",
       "      <td>0.0</td>\n",
       "      <td>0</td>\n",
       "      <td>0</td>\n",
       "      <td>0</td>\n",
       "      <td>0</td>\n",
       "      <td>0</td>\n",
       "      <td>0.0</td>\n",
       "      <td>0</td>\n",
       "      <td>0</td>\n",
       "      <td>...</td>\n",
       "      <td>0</td>\n",
       "      <td>0</td>\n",
       "      <td>0</td>\n",
       "      <td>0.0</td>\n",
       "      <td>0</td>\n",
       "      <td>0</td>\n",
       "      <td>0</td>\n",
       "      <td>0</td>\n",
       "      <td>0</td>\n",
       "      <td>0</td>\n",
       "    </tr>\n",
       "    <tr>\n",
       "      <th>-6gYApoyPvez737nxfnGqw</th>\n",
       "      <td>0</td>\n",
       "      <td>0.0</td>\n",
       "      <td>0</td>\n",
       "      <td>0</td>\n",
       "      <td>0</td>\n",
       "      <td>0</td>\n",
       "      <td>0</td>\n",
       "      <td>0.0</td>\n",
       "      <td>0</td>\n",
       "      <td>0</td>\n",
       "      <td>...</td>\n",
       "      <td>0</td>\n",
       "      <td>0</td>\n",
       "      <td>0</td>\n",
       "      <td>0.0</td>\n",
       "      <td>0</td>\n",
       "      <td>0</td>\n",
       "      <td>0</td>\n",
       "      <td>0</td>\n",
       "      <td>0</td>\n",
       "      <td>0</td>\n",
       "    </tr>\n",
       "    <tr>\n",
       "      <th>-6h_wj5ZOXZQyDyFdhd5BA</th>\n",
       "      <td>0</td>\n",
       "      <td>0.0</td>\n",
       "      <td>0</td>\n",
       "      <td>0</td>\n",
       "      <td>0</td>\n",
       "      <td>0</td>\n",
       "      <td>0</td>\n",
       "      <td>0.0</td>\n",
       "      <td>0</td>\n",
       "      <td>0</td>\n",
       "      <td>...</td>\n",
       "      <td>0</td>\n",
       "      <td>0</td>\n",
       "      <td>0</td>\n",
       "      <td>0.0</td>\n",
       "      <td>0</td>\n",
       "      <td>0</td>\n",
       "      <td>0</td>\n",
       "      <td>0</td>\n",
       "      <td>0</td>\n",
       "      <td>0</td>\n",
       "    </tr>\n",
       "    <tr>\n",
       "      <th>-6hzTZbyE_vAnlLe4lEkpA</th>\n",
       "      <td>0</td>\n",
       "      <td>0.0</td>\n",
       "      <td>0</td>\n",
       "      <td>0</td>\n",
       "      <td>0</td>\n",
       "      <td>0</td>\n",
       "      <td>0</td>\n",
       "      <td>0.0</td>\n",
       "      <td>0</td>\n",
       "      <td>0</td>\n",
       "      <td>...</td>\n",
       "      <td>0</td>\n",
       "      <td>0</td>\n",
       "      <td>0</td>\n",
       "      <td>0.0</td>\n",
       "      <td>0</td>\n",
       "      <td>0</td>\n",
       "      <td>0</td>\n",
       "      <td>0</td>\n",
       "      <td>0</td>\n",
       "      <td>0</td>\n",
       "    </tr>\n",
       "  </tbody>\n",
       "</table>\n",
       "<p>5 rows × 3626 columns</p>\n",
       "</div>"
      ],
      "text/plain": [
       "business_id             --9e1ONYQuAa-CB_Rrw7Tw  -0RkJ_uIduNLWQrphbADRw  \\\n",
       "user_id                                                                  \n",
       "-1D4lTzn2HzQlW7OZJo16Q                       0                     0.0   \n",
       "-4JBueG4IRIh2Ie5EEIJSg                       0                     0.0   \n",
       "-6gYApoyPvez737nxfnGqw                       0                     0.0   \n",
       "-6h_wj5ZOXZQyDyFdhd5BA                       0                     0.0   \n",
       "-6hzTZbyE_vAnlLe4lEkpA                       0                     0.0   \n",
       "\n",
       "business_id             -1m9o3vGRA8IBPNvNqKLmA  -3zffZUHoY8bQjGfPSoBKQ  \\\n",
       "user_id                                                                  \n",
       "-1D4lTzn2HzQlW7OZJo16Q                       0                       0   \n",
       "-4JBueG4IRIh2Ie5EEIJSg                       0                       0   \n",
       "-6gYApoyPvez737nxfnGqw                       0                       0   \n",
       "-6h_wj5ZOXZQyDyFdhd5BA                       0                       0   \n",
       "-6hzTZbyE_vAnlLe4lEkpA                       0                       0   \n",
       "\n",
       "business_id             -46pFijv3f2jZH-_Ze6CQA  -8R_-EkGpUhBk55K9Dd4mg  \\\n",
       "user_id                                                                  \n",
       "-1D4lTzn2HzQlW7OZJo16Q                       0                       0   \n",
       "-4JBueG4IRIh2Ie5EEIJSg                       0                       0   \n",
       "-6gYApoyPvez737nxfnGqw                       0                       0   \n",
       "-6h_wj5ZOXZQyDyFdhd5BA                       0                       0   \n",
       "-6hzTZbyE_vAnlLe4lEkpA                       0                       0   \n",
       "\n",
       "business_id             -AD5PiuJHgdUcAK-Vxao2A  -ADtl9bLp8wNqYX1k3KuxA  \\\n",
       "user_id                                                                  \n",
       "-1D4lTzn2HzQlW7OZJo16Q                       0                     0.0   \n",
       "-4JBueG4IRIh2Ie5EEIJSg                       0                     0.0   \n",
       "-6gYApoyPvez737nxfnGqw                       0                     0.0   \n",
       "-6h_wj5ZOXZQyDyFdhd5BA                       0                     0.0   \n",
       "-6hzTZbyE_vAnlLe4lEkpA                       0                     0.0   \n",
       "\n",
       "business_id             -Bf8BQ3yMk8U2f45r2DRKw  -BmqghX1sv7sgsxOIS2yAg  ...  \\\n",
       "user_id                                                                 ...   \n",
       "-1D4lTzn2HzQlW7OZJo16Q                       0                       0  ...   \n",
       "-4JBueG4IRIh2Ie5EEIJSg                       0                       0  ...   \n",
       "-6gYApoyPvez737nxfnGqw                       0                       0  ...   \n",
       "-6h_wj5ZOXZQyDyFdhd5BA                       0                       0  ...   \n",
       "-6hzTZbyE_vAnlLe4lEkpA                       0                       0  ...   \n",
       "\n",
       "business_id             zmltWmTpoBt5sCU-5Kzj-Q  znWHLW1pt19HzW1VY6KfCA  \\\n",
       "user_id                                                                  \n",
       "-1D4lTzn2HzQlW7OZJo16Q                       0                       0   \n",
       "-4JBueG4IRIh2Ie5EEIJSg                       0                       0   \n",
       "-6gYApoyPvez737nxfnGqw                       0                       0   \n",
       "-6h_wj5ZOXZQyDyFdhd5BA                       0                       0   \n",
       "-6hzTZbyE_vAnlLe4lEkpA                       0                       0   \n",
       "\n",
       "business_id             zp-K5s3pGTWuuaVBWo6WZA  zpoZ6WyQUYff18-z4ZU1mA  \\\n",
       "user_id                                                                  \n",
       "-1D4lTzn2HzQlW7OZJo16Q                       0                     0.0   \n",
       "-4JBueG4IRIh2Ie5EEIJSg                       0                     0.0   \n",
       "-6gYApoyPvez737nxfnGqw                       0                     0.0   \n",
       "-6h_wj5ZOXZQyDyFdhd5BA                       0                     0.0   \n",
       "-6hzTZbyE_vAnlLe4lEkpA                       0                     0.0   \n",
       "\n",
       "business_id             zr42_UsWfaIF-rcp37OpwA  zsQk990PubOHjr1YcLkQFw  \\\n",
       "user_id                                                                  \n",
       "-1D4lTzn2HzQlW7OZJo16Q                       0                       0   \n",
       "-4JBueG4IRIh2Ie5EEIJSg                       0                       0   \n",
       "-6gYApoyPvez737nxfnGqw                       0                       0   \n",
       "-6h_wj5ZOXZQyDyFdhd5BA                       0                       0   \n",
       "-6hzTZbyE_vAnlLe4lEkpA                       0                       0   \n",
       "\n",
       "business_id             zttcrQP4MxNS5X5itzStXg  zuwba6QEBIDZT0tJZmNhdQ  \\\n",
       "user_id                                                                  \n",
       "-1D4lTzn2HzQlW7OZJo16Q                       0                       0   \n",
       "-4JBueG4IRIh2Ie5EEIJSg                       0                       0   \n",
       "-6gYApoyPvez737nxfnGqw                       0                       0   \n",
       "-6h_wj5ZOXZQyDyFdhd5BA                       0                       0   \n",
       "-6hzTZbyE_vAnlLe4lEkpA                       0                       0   \n",
       "\n",
       "business_id             zwNC-Ow4eIMan2__bS9-rg  zx_j6OuuHHa2afVoAZuLpA  \n",
       "user_id                                                                 \n",
       "-1D4lTzn2HzQlW7OZJo16Q                       0                       0  \n",
       "-4JBueG4IRIh2Ie5EEIJSg                       0                       0  \n",
       "-6gYApoyPvez737nxfnGqw                       0                       0  \n",
       "-6h_wj5ZOXZQyDyFdhd5BA                       0                       0  \n",
       "-6hzTZbyE_vAnlLe4lEkpA                       0                       0  \n",
       "\n",
       "[5 rows x 3626 columns]"
      ]
     },
     "execution_count": 22,
     "metadata": {},
     "output_type": "execute_result"
    }
   ],
   "source": [
    "df_utility.head()"
   ]
  },
  {
   "cell_type": "code",
   "execution_count": 23,
   "metadata": {},
   "outputs": [
    {
     "data": {
      "text/plain": [
       "(4133, 3626)"
      ]
     },
     "execution_count": 23,
     "metadata": {},
     "output_type": "execute_result"
    }
   ],
   "source": [
    "df_utility.shape"
   ]
  },
  {
   "cell_type": "markdown",
   "metadata": {},
   "source": [
    "## Similarity Matrix"
   ]
  },
  {
   "cell_type": "code",
   "execution_count": 26,
   "metadata": {},
   "outputs": [],
   "source": [
    "# Item-Item Similarity Matrix, I choose cosine_similarity here\n",
    "item_sim_mat = cosine_similarity(df_utility.T) ## similarity matrics is a hyper parameter"
   ]
  },
  {
   "cell_type": "code",
   "execution_count": 27,
   "metadata": {},
   "outputs": [
    {
     "data": {
      "text/plain": [
       "(3626, 3626)"
      ]
     },
     "execution_count": 27,
     "metadata": {},
     "output_type": "execute_result"
    }
   ],
   "source": [
    "item_sim_mat.shape"
   ]
  },
  {
   "cell_type": "markdown",
   "metadata": {},
   "source": [
    "## Calculate Neighborhood"
   ]
  },
  {
   "cell_type": "code",
   "execution_count": 46,
   "metadata": {},
   "outputs": [],
   "source": [
    "# Find Neighborhoos with highest similarity\n",
    "least_to_most_sim_indexes = np.argsort(item_sim_mat, axis=1)\n",
    "# Hyperparameter: number of neighborhoods\n",
    "neighborhood_size = 10 # can tune neighborhood size , hyper parameter\n",
    "neighborhoods = least_to_most_sim_indexes[:, -neighborhood_size:] ## least_to_most_sim_indexes[:, -neighborhood_size: -1]"
   ]
  },
  {
   "cell_type": "markdown",
   "metadata": {},
   "source": [
    "## Prediction for a user"
   ]
  },
  {
   "cell_type": "code",
   "execution_count": 47,
   "metadata": {},
   "outputs": [
    {
     "name": "stderr",
     "output_type": "stream",
     "text": [
      "C:\\TEXTBOOK\\Python\\anoconda\\lib\\site-packages\\ipykernel_launcher.py:22: RuntimeWarning: invalid value encountered in double_scalars\n"
     ]
    },
    {
     "name": "stdout",
     "output_type": "stream",
     "text": [
      "Execution time: 11.180140 seconds\n"
     ]
    }
   ],
   "source": [
    "# Let's pick a lucky user\n",
    "user_id = 'qKUEhJUl0Z9MFW7R7BTvRQ'\n",
    "\n",
    "n_users = df_utility.shape[0]\n",
    "n_items = df_utility.shape[1]\n",
    "\n",
    "start_time = time()\n",
    "\n",
    "items_rated_by_this_user = df_utility.loc[user_id,:].values.nonzero()[0]\n",
    "# Just initializing so we have somewhere to put rating preds\n",
    "out = np.zeros(n_items)\n",
    "for item_to_rate in range(n_items):\n",
    "    relevant_items_idx = np.intersect1d(neighborhoods[item_to_rate],\n",
    "                                    items_rated_by_this_user,\n",
    "                                    assume_unique=True)  # assume_unique speeds up intersection op\n",
    "    relevant_items = df_utility.columns[relevant_items_idx].values\n",
    "#     print (relevant_items_idx)\n",
    "#     print (relevant_items)\n",
    "#     print (df_utility.loc[user_id, relevant_items].values)\n",
    "#     print (item_sim_mat[item_to_rate, relevant_items_idx])\n",
    "#     print (item_sim_mat[item_to_rate, relevant_items_idx].sum())\n",
    "    out[item_to_rate] = df_utility.loc[user_id, relevant_items].values.dot(item_sim_mat[item_to_rate, relevant_items_idx].T) / item_sim_mat[item_to_rate, relevant_items_idx].sum()\n",
    "\n",
    "pred_ratings = np.nan_to_num(out)\n",
    "# print(pred_ratings)\n",
    "print(\"Execution time: %f seconds\" % (time()-start_time))"
   ]
  },
  {
   "cell_type": "markdown",
   "metadata": {},
   "source": [
    "## Final Recommendations"
   ]
  },
  {
   "cell_type": "code",
   "execution_count": 48,
   "metadata": {},
   "outputs": [
    {
     "data": {
      "text/plain": [
       "array(['0VjHFdczi6Nln_nn8bucJQ', 'Mv2SeBkY0DASmwO1-mM-iQ',\n",
       "       'xxaqaD9IVsqxiNF8FoHdYA', '5iAFiMPfitcYDMeII5_dnQ',\n",
       "       'XtE_J8DZXgjFbW1xVkqmUw', 'jSu2A7DibDjmUd3wUt6fPg',\n",
       "       'gDyOfw49K5Sr4-vKVVwDfA', 'ejcVeQztxXY6NX2O2SE0Rw',\n",
       "       'Gd2OE3FIWzv5boI99bM6Iw', 'Vg1C_1eqwIwkZLIXGMTW3g'], dtype=object)"
      ]
     },
     "execution_count": 48,
     "metadata": {},
     "output_type": "execute_result"
    }
   ],
   "source": [
    "# Hyperparameter: Recommend n movies\n",
    "n = 10\n",
    "\n",
    "# Get item indexes sorted by predicted rating\n",
    "item_index_sorted_by_pred_rating = list(np.argsort(pred_ratings))\n",
    "\n",
    "# Find items that have been rated by user\n",
    "item_index_rated_by_this_user = df_utility.loc[user_id,:].values.nonzero()[0]\n",
    "\n",
    "# We want to exclude the items that have been rated by user\n",
    "unrated_items_by_pred_rating = [item for item in item_index_sorted_by_pred_rating\n",
    "                                if item not in item_index_rated_by_this_user]\n",
    "\n",
    "df_utility.columns[unrated_items_by_pred_rating[-n:]].values"
   ]
  },
  {
   "cell_type": "markdown",
   "metadata": {},
   "source": [
    "## Evaluation\n",
    "* may have overfitting risk\n",
    "* can get a rough estimation of the performance of my recommender"
   ]
  },
  {
   "cell_type": "code",
   "execution_count": 49,
   "metadata": {},
   "outputs": [
    {
     "data": {
      "text/plain": [
       "0.5564217521152803"
      ]
     },
     "execution_count": 49,
     "metadata": {},
     "output_type": "execute_result"
    }
   ],
   "source": [
    "# get item id that is rated by this user\n",
    "item_rated_by_this_user = df_utility.columns[item_index_rated_by_this_user].values\n",
    "\n",
    "# prediction rating score\n",
    "y_pred = pred_ratings[item_index_rated_by_this_user]\n",
    "\n",
    "# true rating score\n",
    "y_true = df_utility.loc[user_id, item_rated_by_this_user].values\n",
    "\n",
    "# RMSE\n",
    "np.sqrt(np.mean((y_pred - y_true)**2))"
   ]
  },
  {
   "cell_type": "markdown",
   "metadata": {},
   "source": [
    "# Content-based recommender"
   ]
  },
  {
   "cell_type": "markdown",
   "metadata": {},
   "source": [
    "## Extract Features"
   ]
  },
  {
   "cell_type": "code",
   "execution_count": 52,
   "metadata": {},
   "outputs": [
    {
     "data": {
      "text/html": [
       "<div>\n",
       "<style scoped>\n",
       "    .dataframe tbody tr th:only-of-type {\n",
       "        vertical-align: middle;\n",
       "    }\n",
       "\n",
       "    .dataframe tbody tr th {\n",
       "        vertical-align: top;\n",
       "    }\n",
       "\n",
       "    .dataframe thead th {\n",
       "        text-align: right;\n",
       "    }\n",
       "</style>\n",
       "<table border=\"1\" class=\"dataframe\">\n",
       "  <thead>\n",
       "    <tr style=\"text-align: right;\">\n",
       "      <th></th>\n",
       "      <th>avg_stars</th>\n",
       "      <th>cool</th>\n",
       "      <th>funny</th>\n",
       "      <th>stars</th>\n",
       "      <th>useful</th>\n",
       "    </tr>\n",
       "    <tr>\n",
       "      <th>business_id</th>\n",
       "      <th></th>\n",
       "      <th></th>\n",
       "      <th></th>\n",
       "      <th></th>\n",
       "      <th></th>\n",
       "    </tr>\n",
       "  </thead>\n",
       "  <tbody>\n",
       "    <tr>\n",
       "      <th>--9e1ONYQuAa-CB_Rrw7Tw</th>\n",
       "      <td>4.0</td>\n",
       "      <td>1.113475</td>\n",
       "      <td>0.666667</td>\n",
       "      <td>4.290780</td>\n",
       "      <td>1.304965</td>\n",
       "    </tr>\n",
       "    <tr>\n",
       "      <th>-0BxAGlIk5DJAGVkpqBXxg</th>\n",
       "      <td>3.0</td>\n",
       "      <td>0.000000</td>\n",
       "      <td>0.000000</td>\n",
       "      <td>3.750000</td>\n",
       "      <td>0.000000</td>\n",
       "    </tr>\n",
       "    <tr>\n",
       "      <th>-0RkJ_uIduNLWQrphbADRw</th>\n",
       "      <td>4.5</td>\n",
       "      <td>1.666667</td>\n",
       "      <td>0.666667</td>\n",
       "      <td>4.301587</td>\n",
       "      <td>1.825397</td>\n",
       "    </tr>\n",
       "    <tr>\n",
       "      <th>-1m9o3vGRA8IBPNvNqKLmA</th>\n",
       "      <td>4.5</td>\n",
       "      <td>0.320856</td>\n",
       "      <td>0.165775</td>\n",
       "      <td>4.561497</td>\n",
       "      <td>0.743316</td>\n",
       "    </tr>\n",
       "    <tr>\n",
       "      <th>-3zffZUHoY8bQjGfPSoBKQ</th>\n",
       "      <td>4.0</td>\n",
       "      <td>2.555556</td>\n",
       "      <td>1.733333</td>\n",
       "      <td>4.355556</td>\n",
       "      <td>2.711111</td>\n",
       "    </tr>\n",
       "  </tbody>\n",
       "</table>\n",
       "</div>"
      ],
      "text/plain": [
       "                        avg_stars      cool     funny     stars    useful\n",
       "business_id                                                              \n",
       "--9e1ONYQuAa-CB_Rrw7Tw        4.0  1.113475  0.666667  4.290780  1.304965\n",
       "-0BxAGlIk5DJAGVkpqBXxg        3.0  0.000000  0.000000  3.750000  0.000000\n",
       "-0RkJ_uIduNLWQrphbADRw        4.5  1.666667  0.666667  4.301587  1.825397\n",
       "-1m9o3vGRA8IBPNvNqKLmA        4.5  0.320856  0.165775  4.561497  0.743316\n",
       "-3zffZUHoY8bQjGfPSoBKQ        4.0  2.555556  1.733333  4.355556  2.711111"
      ]
     },
     "execution_count": 52,
     "metadata": {},
     "output_type": "execute_result"
    }
   ],
   "source": [
    "# group by business_id, then average numerical features\n",
    "\n",
    "df_average = df.groupby(['business_id']).mean()\n",
    "df_average.head()"
   ]
  },
  {
   "cell_type": "code",
   "execution_count": 53,
   "metadata": {},
   "outputs": [
    {
     "data": {
      "text/plain": [
       "business_id\n",
       "--9e1ONYQuAa-CB_Rrw7Tw    [Cajun/Creole, Seafood, Steakhouses, Restaurants]\n",
       "-0BxAGlIk5DJAGVkpqBXxg                    [Food, Restaurants, Coffee & Tea]\n",
       "-0RkJ_uIduNLWQrphbADRw    [Coffee & Tea, Cafes, Food, Restaurants, Break...\n",
       "-1m9o3vGRA8IBPNvNqKLmA    [Bars, Cocktail Bars, Restaurants, African, Se...\n",
       "-3zffZUHoY8bQjGfPSoBKQ    [Nightlife, Bars, American (New), Seafood, Res...\n",
       "Name: categories, dtype: object"
      ]
     },
     "execution_count": 53,
     "metadata": {},
     "output_type": "execute_result"
    }
   ],
   "source": [
    "# group by business_id, extract categories data\n",
    "\n",
    "categories_series = df.groupby(['business_id']).categories.apply(np.unique)\n",
    "categories_series.head()"
   ]
  },
  {
   "cell_type": "code",
   "execution_count": 54,
   "metadata": {},
   "outputs": [],
   "source": [
    "# convert categories data to string remove `[]`\n",
    "categories_series = categories_series.str.join('').apply(lambda x: x[1:-1])"
   ]
  },
  {
   "cell_type": "code",
   "execution_count": 56,
   "metadata": {},
   "outputs": [
    {
     "data": {
      "text/html": [
       "<div>\n",
       "<style scoped>\n",
       "    .dataframe tbody tr th:only-of-type {\n",
       "        vertical-align: middle;\n",
       "    }\n",
       "\n",
       "    .dataframe tbody tr th {\n",
       "        vertical-align: top;\n",
       "    }\n",
       "\n",
       "    .dataframe thead th {\n",
       "        text-align: right;\n",
       "    }\n",
       "</style>\n",
       "<table border=\"1\" class=\"dataframe\">\n",
       "  <thead>\n",
       "    <tr style=\"text-align: right;\">\n",
       "      <th></th>\n",
       "      <th>acai</th>\n",
       "      <th>acarons</th>\n",
       "      <th>accessories</th>\n",
       "      <th>acos</th>\n",
       "      <th>active</th>\n",
       "      <th>activities</th>\n",
       "      <th>acupuncture</th>\n",
       "      <th>adoption</th>\n",
       "      <th>adult</th>\n",
       "      <th>afes</th>\n",
       "      <th>...</th>\n",
       "      <th>wraps</th>\n",
       "      <th>yelp</th>\n",
       "      <th>yoga</th>\n",
       "      <th>yogur</th>\n",
       "      <th>yogurt</th>\n",
       "      <th>your</th>\n",
       "      <th>yourself</th>\n",
       "      <th>zakaya</th>\n",
       "      <th>zechuan</th>\n",
       "      <th>zoos</th>\n",
       "    </tr>\n",
       "    <tr>\n",
       "      <th>business_id</th>\n",
       "      <th></th>\n",
       "      <th></th>\n",
       "      <th></th>\n",
       "      <th></th>\n",
       "      <th></th>\n",
       "      <th></th>\n",
       "      <th></th>\n",
       "      <th></th>\n",
       "      <th></th>\n",
       "      <th></th>\n",
       "      <th></th>\n",
       "      <th></th>\n",
       "      <th></th>\n",
       "      <th></th>\n",
       "      <th></th>\n",
       "      <th></th>\n",
       "      <th></th>\n",
       "      <th></th>\n",
       "      <th></th>\n",
       "      <th></th>\n",
       "      <th></th>\n",
       "    </tr>\n",
       "  </thead>\n",
       "  <tbody>\n",
       "    <tr>\n",
       "      <th>--9e1ONYQuAa-CB_Rrw7Tw</th>\n",
       "      <td>0</td>\n",
       "      <td>0</td>\n",
       "      <td>0</td>\n",
       "      <td>0</td>\n",
       "      <td>0</td>\n",
       "      <td>0</td>\n",
       "      <td>0</td>\n",
       "      <td>0</td>\n",
       "      <td>0</td>\n",
       "      <td>0</td>\n",
       "      <td>...</td>\n",
       "      <td>0</td>\n",
       "      <td>0</td>\n",
       "      <td>0</td>\n",
       "      <td>0</td>\n",
       "      <td>0</td>\n",
       "      <td>0</td>\n",
       "      <td>0</td>\n",
       "      <td>0</td>\n",
       "      <td>0</td>\n",
       "      <td>0</td>\n",
       "    </tr>\n",
       "    <tr>\n",
       "      <th>-0BxAGlIk5DJAGVkpqBXxg</th>\n",
       "      <td>0</td>\n",
       "      <td>0</td>\n",
       "      <td>0</td>\n",
       "      <td>0</td>\n",
       "      <td>0</td>\n",
       "      <td>0</td>\n",
       "      <td>0</td>\n",
       "      <td>0</td>\n",
       "      <td>0</td>\n",
       "      <td>0</td>\n",
       "      <td>...</td>\n",
       "      <td>0</td>\n",
       "      <td>0</td>\n",
       "      <td>0</td>\n",
       "      <td>0</td>\n",
       "      <td>0</td>\n",
       "      <td>0</td>\n",
       "      <td>0</td>\n",
       "      <td>0</td>\n",
       "      <td>0</td>\n",
       "      <td>0</td>\n",
       "    </tr>\n",
       "    <tr>\n",
       "      <th>-0RkJ_uIduNLWQrphbADRw</th>\n",
       "      <td>0</td>\n",
       "      <td>0</td>\n",
       "      <td>0</td>\n",
       "      <td>0</td>\n",
       "      <td>0</td>\n",
       "      <td>0</td>\n",
       "      <td>0</td>\n",
       "      <td>0</td>\n",
       "      <td>0</td>\n",
       "      <td>0</td>\n",
       "      <td>...</td>\n",
       "      <td>0</td>\n",
       "      <td>0</td>\n",
       "      <td>0</td>\n",
       "      <td>0</td>\n",
       "      <td>0</td>\n",
       "      <td>0</td>\n",
       "      <td>0</td>\n",
       "      <td>0</td>\n",
       "      <td>0</td>\n",
       "      <td>0</td>\n",
       "    </tr>\n",
       "    <tr>\n",
       "      <th>-1m9o3vGRA8IBPNvNqKLmA</th>\n",
       "      <td>0</td>\n",
       "      <td>0</td>\n",
       "      <td>0</td>\n",
       "      <td>0</td>\n",
       "      <td>0</td>\n",
       "      <td>0</td>\n",
       "      <td>0</td>\n",
       "      <td>0</td>\n",
       "      <td>0</td>\n",
       "      <td>0</td>\n",
       "      <td>...</td>\n",
       "      <td>0</td>\n",
       "      <td>0</td>\n",
       "      <td>0</td>\n",
       "      <td>0</td>\n",
       "      <td>0</td>\n",
       "      <td>0</td>\n",
       "      <td>0</td>\n",
       "      <td>0</td>\n",
       "      <td>0</td>\n",
       "      <td>0</td>\n",
       "    </tr>\n",
       "    <tr>\n",
       "      <th>-3zffZUHoY8bQjGfPSoBKQ</th>\n",
       "      <td>0</td>\n",
       "      <td>0</td>\n",
       "      <td>0</td>\n",
       "      <td>0</td>\n",
       "      <td>0</td>\n",
       "      <td>0</td>\n",
       "      <td>0</td>\n",
       "      <td>0</td>\n",
       "      <td>0</td>\n",
       "      <td>0</td>\n",
       "      <td>...</td>\n",
       "      <td>0</td>\n",
       "      <td>0</td>\n",
       "      <td>0</td>\n",
       "      <td>0</td>\n",
       "      <td>0</td>\n",
       "      <td>0</td>\n",
       "      <td>0</td>\n",
       "      <td>0</td>\n",
       "      <td>0</td>\n",
       "      <td>0</td>\n",
       "    </tr>\n",
       "  </tbody>\n",
       "</table>\n",
       "<p>5 rows × 861 columns</p>\n",
       "</div>"
      ],
      "text/plain": [
       "                        acai  acarons  accessories  acos  active  activities  \\\n",
       "business_id                                                                    \n",
       "--9e1ONYQuAa-CB_Rrw7Tw     0        0            0     0       0           0   \n",
       "-0BxAGlIk5DJAGVkpqBXxg     0        0            0     0       0           0   \n",
       "-0RkJ_uIduNLWQrphbADRw     0        0            0     0       0           0   \n",
       "-1m9o3vGRA8IBPNvNqKLmA     0        0            0     0       0           0   \n",
       "-3zffZUHoY8bQjGfPSoBKQ     0        0            0     0       0           0   \n",
       "\n",
       "                        acupuncture  adoption  adult  afes  ...  wraps  yelp  \\\n",
       "business_id                                                 ...                \n",
       "--9e1ONYQuAa-CB_Rrw7Tw            0         0      0     0  ...      0     0   \n",
       "-0BxAGlIk5DJAGVkpqBXxg            0         0      0     0  ...      0     0   \n",
       "-0RkJ_uIduNLWQrphbADRw            0         0      0     0  ...      0     0   \n",
       "-1m9o3vGRA8IBPNvNqKLmA            0         0      0     0  ...      0     0   \n",
       "-3zffZUHoY8bQjGfPSoBKQ            0         0      0     0  ...      0     0   \n",
       "\n",
       "                        yoga  yogur  yogurt  your  yourself  zakaya  zechuan  \\\n",
       "business_id                                                                    \n",
       "--9e1ONYQuAa-CB_Rrw7Tw     0      0       0     0         0       0        0   \n",
       "-0BxAGlIk5DJAGVkpqBXxg     0      0       0     0         0       0        0   \n",
       "-0RkJ_uIduNLWQrphbADRw     0      0       0     0         0       0        0   \n",
       "-1m9o3vGRA8IBPNvNqKLmA     0      0       0     0         0       0        0   \n",
       "-3zffZUHoY8bQjGfPSoBKQ     0      0       0     0         0       0        0   \n",
       "\n",
       "                        zoos  \n",
       "business_id                   \n",
       "--9e1ONYQuAa-CB_Rrw7Tw     0  \n",
       "-0BxAGlIk5DJAGVkpqBXxg     0  \n",
       "-0RkJ_uIduNLWQrphbADRw     0  \n",
       "-1m9o3vGRA8IBPNvNqKLmA     0  \n",
       "-3zffZUHoY8bQjGfPSoBKQ     0  \n",
       "\n",
       "[5 rows x 861 columns]"
      ]
     },
     "execution_count": 56,
     "metadata": {},
     "output_type": "execute_result"
    }
   ],
   "source": [
    "# business_id, categories table\n",
    "from sklearn.feature_extraction.text import CountVectorizer\n",
    "\n",
    "vectorizer = CountVectorizer()\n",
    "categories_mat = vectorizer.fit_transform(categories_series).toarray()\n",
    "categories = vectorizer.get_feature_names()\n",
    "df_categories = pd.DataFrame(categories_mat,\n",
    "                             columns=categories, \n",
    "                             index=categories_series.index)\n",
    "df_categories.head()"
   ]
  },
  {
   "cell_type": "markdown",
   "metadata": {},
   "source": [
    "## Dimensionality Reduction"
   ]
  },
  {
   "cell_type": "code",
   "execution_count": 57,
   "metadata": {},
   "outputs": [
    {
     "name": "stdout",
     "output_type": "stream",
     "text": [
      "0.8999518166452352\n"
     ]
    },
    {
     "data": {
      "text/html": [
       "<div>\n",
       "<style scoped>\n",
       "    .dataframe tbody tr th:only-of-type {\n",
       "        vertical-align: middle;\n",
       "    }\n",
       "\n",
       "    .dataframe tbody tr th {\n",
       "        vertical-align: top;\n",
       "    }\n",
       "\n",
       "    .dataframe thead th {\n",
       "        text-align: right;\n",
       "    }\n",
       "</style>\n",
       "<table border=\"1\" class=\"dataframe\">\n",
       "  <thead>\n",
       "    <tr style=\"text-align: right;\">\n",
       "      <th></th>\n",
       "      <th>0</th>\n",
       "      <th>1</th>\n",
       "      <th>2</th>\n",
       "      <th>3</th>\n",
       "      <th>4</th>\n",
       "      <th>5</th>\n",
       "      <th>6</th>\n",
       "      <th>7</th>\n",
       "      <th>8</th>\n",
       "      <th>9</th>\n",
       "      <th>...</th>\n",
       "      <th>140</th>\n",
       "      <th>141</th>\n",
       "      <th>142</th>\n",
       "      <th>143</th>\n",
       "      <th>144</th>\n",
       "      <th>145</th>\n",
       "      <th>146</th>\n",
       "      <th>147</th>\n",
       "      <th>148</th>\n",
       "      <th>149</th>\n",
       "    </tr>\n",
       "    <tr>\n",
       "      <th>business_id</th>\n",
       "      <th></th>\n",
       "      <th></th>\n",
       "      <th></th>\n",
       "      <th></th>\n",
       "      <th></th>\n",
       "      <th></th>\n",
       "      <th></th>\n",
       "      <th></th>\n",
       "      <th></th>\n",
       "      <th></th>\n",
       "      <th></th>\n",
       "      <th></th>\n",
       "      <th></th>\n",
       "      <th></th>\n",
       "      <th></th>\n",
       "      <th></th>\n",
       "      <th></th>\n",
       "      <th></th>\n",
       "      <th></th>\n",
       "      <th></th>\n",
       "      <th></th>\n",
       "    </tr>\n",
       "  </thead>\n",
       "  <tbody>\n",
       "    <tr>\n",
       "      <th>--9e1ONYQuAa-CB_Rrw7Tw</th>\n",
       "      <td>0.193714</td>\n",
       "      <td>-0.075249</td>\n",
       "      <td>-0.376415</td>\n",
       "      <td>0.526724</td>\n",
       "      <td>-0.366509</td>\n",
       "      <td>0.289663</td>\n",
       "      <td>-0.545589</td>\n",
       "      <td>0.002152</td>\n",
       "      <td>-0.261248</td>\n",
       "      <td>0.007109</td>\n",
       "      <td>...</td>\n",
       "      <td>-0.004460</td>\n",
       "      <td>-0.042583</td>\n",
       "      <td>0.003215</td>\n",
       "      <td>-0.039412</td>\n",
       "      <td>0.036170</td>\n",
       "      <td>-0.067481</td>\n",
       "      <td>-0.032062</td>\n",
       "      <td>-0.040863</td>\n",
       "      <td>0.049589</td>\n",
       "      <td>-0.072978</td>\n",
       "    </tr>\n",
       "    <tr>\n",
       "      <th>-0BxAGlIk5DJAGVkpqBXxg</th>\n",
       "      <td>0.605673</td>\n",
       "      <td>0.056510</td>\n",
       "      <td>0.679714</td>\n",
       "      <td>-0.188741</td>\n",
       "      <td>-0.036146</td>\n",
       "      <td>-0.209562</td>\n",
       "      <td>-0.488897</td>\n",
       "      <td>0.328494</td>\n",
       "      <td>0.028942</td>\n",
       "      <td>0.322817</td>\n",
       "      <td>...</td>\n",
       "      <td>0.058874</td>\n",
       "      <td>0.004971</td>\n",
       "      <td>0.000863</td>\n",
       "      <td>-0.006043</td>\n",
       "      <td>-0.027285</td>\n",
       "      <td>-0.034147</td>\n",
       "      <td>-0.024304</td>\n",
       "      <td>0.019209</td>\n",
       "      <td>-0.003411</td>\n",
       "      <td>0.059326</td>\n",
       "    </tr>\n",
       "    <tr>\n",
       "      <th>-0RkJ_uIduNLWQrphbADRw</th>\n",
       "      <td>1.253740</td>\n",
       "      <td>-0.543638</td>\n",
       "      <td>0.523794</td>\n",
       "      <td>-0.149007</td>\n",
       "      <td>-0.112086</td>\n",
       "      <td>-0.419827</td>\n",
       "      <td>-0.113909</td>\n",
       "      <td>1.022559</td>\n",
       "      <td>0.291423</td>\n",
       "      <td>0.262130</td>\n",
       "      <td>...</td>\n",
       "      <td>0.006740</td>\n",
       "      <td>-0.006730</td>\n",
       "      <td>0.006152</td>\n",
       "      <td>-0.006164</td>\n",
       "      <td>0.003069</td>\n",
       "      <td>-0.003400</td>\n",
       "      <td>-0.015504</td>\n",
       "      <td>0.049191</td>\n",
       "      <td>-0.094721</td>\n",
       "      <td>-0.012769</td>\n",
       "    </tr>\n",
       "    <tr>\n",
       "      <th>-1m9o3vGRA8IBPNvNqKLmA</th>\n",
       "      <td>1.415311</td>\n",
       "      <td>1.229378</td>\n",
       "      <td>0.074165</td>\n",
       "      <td>-0.049185</td>\n",
       "      <td>-0.051545</td>\n",
       "      <td>-0.185445</td>\n",
       "      <td>0.077454</td>\n",
       "      <td>-0.206934</td>\n",
       "      <td>-0.178000</td>\n",
       "      <td>-0.557226</td>\n",
       "      <td>...</td>\n",
       "      <td>0.038001</td>\n",
       "      <td>-0.008299</td>\n",
       "      <td>0.023659</td>\n",
       "      <td>-0.031058</td>\n",
       "      <td>-0.030717</td>\n",
       "      <td>0.006331</td>\n",
       "      <td>-0.004666</td>\n",
       "      <td>0.006079</td>\n",
       "      <td>-0.015482</td>\n",
       "      <td>0.030894</td>\n",
       "    </tr>\n",
       "    <tr>\n",
       "      <th>-3zffZUHoY8bQjGfPSoBKQ</th>\n",
       "      <td>0.986510</td>\n",
       "      <td>0.876561</td>\n",
       "      <td>-0.900745</td>\n",
       "      <td>0.646937</td>\n",
       "      <td>-0.437903</td>\n",
       "      <td>0.150016</td>\n",
       "      <td>-0.093438</td>\n",
       "      <td>-0.174853</td>\n",
       "      <td>0.004386</td>\n",
       "      <td>-0.610071</td>\n",
       "      <td>...</td>\n",
       "      <td>0.019433</td>\n",
       "      <td>-0.008534</td>\n",
       "      <td>-0.004273</td>\n",
       "      <td>-0.021365</td>\n",
       "      <td>-0.048590</td>\n",
       "      <td>-0.024665</td>\n",
       "      <td>0.000635</td>\n",
       "      <td>0.010591</td>\n",
       "      <td>0.005858</td>\n",
       "      <td>0.043859</td>\n",
       "    </tr>\n",
       "  </tbody>\n",
       "</table>\n",
       "<p>5 rows × 150 columns</p>\n",
       "</div>"
      ],
      "text/plain": [
       "                             0         1         2         3         4    \\\n",
       "business_id                                                                \n",
       "--9e1ONYQuAa-CB_Rrw7Tw  0.193714 -0.075249 -0.376415  0.526724 -0.366509   \n",
       "-0BxAGlIk5DJAGVkpqBXxg  0.605673  0.056510  0.679714 -0.188741 -0.036146   \n",
       "-0RkJ_uIduNLWQrphbADRw  1.253740 -0.543638  0.523794 -0.149007 -0.112086   \n",
       "-1m9o3vGRA8IBPNvNqKLmA  1.415311  1.229378  0.074165 -0.049185 -0.051545   \n",
       "-3zffZUHoY8bQjGfPSoBKQ  0.986510  0.876561 -0.900745  0.646937 -0.437903   \n",
       "\n",
       "                             5         6         7         8         9    ...  \\\n",
       "business_id                                                               ...   \n",
       "--9e1ONYQuAa-CB_Rrw7Tw  0.289663 -0.545589  0.002152 -0.261248  0.007109  ...   \n",
       "-0BxAGlIk5DJAGVkpqBXxg -0.209562 -0.488897  0.328494  0.028942  0.322817  ...   \n",
       "-0RkJ_uIduNLWQrphbADRw -0.419827 -0.113909  1.022559  0.291423  0.262130  ...   \n",
       "-1m9o3vGRA8IBPNvNqKLmA -0.185445  0.077454 -0.206934 -0.178000 -0.557226  ...   \n",
       "-3zffZUHoY8bQjGfPSoBKQ  0.150016 -0.093438 -0.174853  0.004386 -0.610071  ...   \n",
       "\n",
       "                             140       141       142       143       144  \\\n",
       "business_id                                                                \n",
       "--9e1ONYQuAa-CB_Rrw7Tw -0.004460 -0.042583  0.003215 -0.039412  0.036170   \n",
       "-0BxAGlIk5DJAGVkpqBXxg  0.058874  0.004971  0.000863 -0.006043 -0.027285   \n",
       "-0RkJ_uIduNLWQrphbADRw  0.006740 -0.006730  0.006152 -0.006164  0.003069   \n",
       "-1m9o3vGRA8IBPNvNqKLmA  0.038001 -0.008299  0.023659 -0.031058 -0.030717   \n",
       "-3zffZUHoY8bQjGfPSoBKQ  0.019433 -0.008534 -0.004273 -0.021365 -0.048590   \n",
       "\n",
       "                             145       146       147       148       149  \n",
       "business_id                                                               \n",
       "--9e1ONYQuAa-CB_Rrw7Tw -0.067481 -0.032062 -0.040863  0.049589 -0.072978  \n",
       "-0BxAGlIk5DJAGVkpqBXxg -0.034147 -0.024304  0.019209 -0.003411  0.059326  \n",
       "-0RkJ_uIduNLWQrphbADRw -0.003400 -0.015504  0.049191 -0.094721 -0.012769  \n",
       "-1m9o3vGRA8IBPNvNqKLmA  0.006331 -0.004666  0.006079 -0.015482  0.030894  \n",
       "-3zffZUHoY8bQjGfPSoBKQ -0.024665  0.000635  0.010591  0.005858  0.043859  \n",
       "\n",
       "[5 rows x 150 columns]"
      ]
     },
     "execution_count": 57,
     "metadata": {},
     "output_type": "execute_result"
    }
   ],
   "source": [
    "# use svd to reduce dimension\n",
    "from sklearn.decomposition import TruncatedSVD\n",
    "svd = TruncatedSVD(n_components=150,\n",
    "                   random_state=42)\n",
    "\n",
    "svd.fit(categories_mat)\n",
    "categories_svd = svd.transform(categories_mat)\n",
    "df_categories_svd = pd.DataFrame(categories_svd,\n",
    "                                 index=categories_series.index)\n",
    "\n",
    "print(svd.explained_variance_ratio_.sum()) # total variance explained\n",
    "df_categories_svd.head()"
   ]
  },
  {
   "cell_type": "code",
   "execution_count": 58,
   "metadata": {},
   "outputs": [],
   "source": [
    "# join two to generate feature data for each business_id\n",
    "\n",
    "df_business = df_average.join(df_categories_svd)"
   ]
  },
  {
   "cell_type": "code",
   "execution_count": null,
   "metadata": {},
   "outputs": [],
   "source": []
  }
 ],
 "metadata": {
  "kernelspec": {
   "display_name": "Python 3",
   "language": "python",
   "name": "python3"
  },
  "language_info": {
   "codemirror_mode": {
    "name": "ipython",
    "version": 3
   },
   "file_extension": ".py",
   "mimetype": "text/x-python",
   "name": "python",
   "nbconvert_exporter": "python",
   "pygments_lexer": "ipython3",
   "version": "3.6.5"
  }
 },
 "nbformat": 4,
 "nbformat_minor": 2
}
